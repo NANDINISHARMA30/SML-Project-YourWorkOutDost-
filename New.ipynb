{
 "cells": [
  {
   "cell_type": "code",
   "execution_count": null,
   "id": "505becc6",
   "metadata": {},
   "outputs": [],
   "source": [
    "import pandas as pd\n",
    "import matplotlib.pyplot as plt\n",
    "\n",
    "# Load the Excel file\n",
    "file_path = 'Dataset for projectt.xlsx'  # Replace with your file name\n",
    "excel_data = pd.ExcelFile(file_path)\n",
    "\n",
    "# Load data from the first sheet\n",
    "data = excel_data.parse('Sheet1')\n",
    "\n",
    "# Skip irrelevant rows and assign proper column names\n",
    "data_cleaned = excel_data.parse('Sheet1', skiprows=3)\n",
    "data_cleaned.columns = data_cleaned.iloc[0]  # Set the first valid row as headers\n",
    "data_cleaned = data_cleaned[1:]  # Drop the header row from data\n",
    "\n",
    "# Convert numerical columns to numeric types\n",
    "data_cleaned['Price'] = pd.to_numeric(data_cleaned['Price'], errors='coerce')\n",
    "data_cleaned['Diameter (cm)'] = pd.to_numeric(data_cleaned['Diameter (cm)'], errors='coerce')\n",
    "data_cleaned['Weight Capacity (kg)'] = pd.to_numeric(data_cleaned['Weight Capacity (kg)'], errors='coerce')\n",
    "\n",
    "# Example Visualization 1: Price distribution\n",
    "plt.figure(figsize=(8, 6))\n",
    "plt.hist(data_cleaned['Price'].dropna(), bins=10, color='skyblue', edgecolor='black')\n",
    "plt.title('Price Distribution of Gym Balls')\n",
    "plt.xlabel('Price')\n",
    "plt.ylabel('Frequency')\n",
    "plt.grid(axis='y', linestyle='--', alpha=0.7)\n",
    "plt.show()\n",
    "\n",
    "# Example Visualization 2: Weight Capacity by Diameter\n",
    "plt.figure(figsize=(8, 6))\n",
    "plt.scatter(data_cleaned['Diameter (cm)'], data_cleaned['Weight Capacity (kg)'], c='orange', edgecolor='black')\n",
    "plt.title('Weight Capacity vs. Diameter')\n",
    "plt.xlabel('Diameter (cm)')\n",
    "plt.ylabel('Weight Capacity (kg)')\n",
    "plt.grid(alpha=0.5)\n",
    "plt.show()\n",
    "\n",
    "# Example Visualization 3: Average Price by Material\n",
    "avg_price_by_material = data_cleaned.groupby('Material')['Price'].mean().sort_values()\n",
    "plt.figure(figsize=(10, 6))\n",
    "avg_price_by_material.plot(kind='bar', color='lightgreen')\n",
    "plt.title('Average Price by Material')\n",
    "plt.xlabel('Material')\n",
    "plt.ylabel('Average Price')\n",
    "plt.xticks(rotation=45, ha='right')\n",
    "plt.grid(axis='y', linestyle='--', alpha=0.7)\n",
    "plt.show()"
   ]
  },
  {
   "cell_type": "code",
   "execution_count": null,
   "id": "626f3477",
   "metadata": {},
   "outputs": [],
   "source": []
  }
 ],
 "metadata": {
  "kernelspec": {
   "display_name": "myenv",
   "language": "python",
   "name": "python3"
  },
  "language_info": {
   "name": "python",
   "version": "3.12.4"
  }
 },
 "nbformat": 4,
 "nbformat_minor": 5
}
